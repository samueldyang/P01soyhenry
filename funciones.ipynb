{
 "cells": [
  {
   "cell_type": "code",
   "execution_count": 1,
   "metadata": {},
   "outputs": [],
   "source": [
    "import os\n",
    "import numpy as np\n",
    "import pandas as pd\n",
    "import matplotlib.pyplot as plt\n",
    "import seaborn as sns\n",
    "import scipy\n",
    "import calendar\n",
    "import json\n",
    "from scipy import stats\n",
    "from scipy.stats import skew\n",
    "from math import sqrt\n",
    "from numpy import mean, var\n",
    "from sklearn import preprocessing\n",
    "from fastapi import FastAPI"
   ]
  },
  {
   "cell_type": "code",
   "execution_count": 16,
   "metadata": {},
   "outputs": [],
   "source": [
    "#leemos los archivos\n",
    "\n",
    "archivo1 = 'movies_dataset_modificado.csv'\n",
    "archivo2 = 'credits_modificado.csv'\n",
    "archivo3 = 'dataset_concatenado'\n",
    "\n",
    "df_movies = pd.read_csv(archivo1)\n",
    "df_credits = pd.read_csv(archivo2)\n",
    "\n",
    "#concatenamos los archivos usando 'id' como clave\n",
    "df_concatenado = pd.merge(df_movies, df_credits, on='id', how='left')\n",
    "\n",
    "#guardamos el archivo concatenado\n",
    "df_concatenado.to_csv(archivo3, index=False)"
   ]
  },
  {
   "cell_type": "code",
   "execution_count": 17,
   "metadata": {},
   "outputs": [],
   "source": [
    "df = pd.read_csv('dataset_concatenado.csv')\n",
    "\n",
    "#convertimos la columna 'release_date' a datetime\n",
    "df['release_date'] = pd.to_datetime(df['release_date'], errors='coerce')"
   ]
  },
  {
   "cell_type": "code",
   "execution_count": 18,
   "metadata": {},
   "outputs": [
    {
     "name": "stdout",
     "output_type": "stream",
     "text": [
      "3951 cantidad de películas fueron estrenadas en el mes de Agosto\n"
     ]
    }
   ],
   "source": [
    "'Se ingresa un mes en idioma Español. Debe devolver la cantidad de películas que fueron estrenadas en el mes consultado en la totalidad del dataset.'\n",
    "\n",
    "#mapeamos los nombres de los meses en español a sus numeros correspondientes\n",
    "def cantidad_filmaciones_mes(mes: str):\n",
    "    meses_espanol = {\n",
    "        'enero': 1, 'febrero': 2, 'marzo': 3, 'abril': 4,\n",
    "        'mayo': 5, 'junio': 6, 'julio': 7, 'agosto': 8,\n",
    "        'septiembre': 9, 'octubre': 10, 'noviembre': 11, 'diciembre': 12\n",
    "    }\n",
    "    mes_num = meses_espanol.get(mes.lower())\n",
    "\n",
    "#manejamos errores\n",
    "    if mes_num is None:\n",
    "        return {\"mensaje\": f\"Mes '{mes}' no válido. Debe ser un mes en español.\"}\n",
    "\n",
    "#contamos las peliculas estrenadas en un mes específico\n",
    "    cantidad = len(df[df['release_date'].dt.month == mes_num])\n",
    "    return {\"mensaje\": f\"{cantidad} cantidad de películas fueron estrenadas en el mes de {mes.capitalize()}\"}\n",
    "\n",
    "#llamamos a la función y mostramos el resultado\n",
    "resultado = cantidad_filmaciones_mes(\"agosto\")\n",
    "print(resultado[\"mensaje\"])"
   ]
  },
  {
   "cell_type": "code",
   "execution_count": 19,
   "metadata": {},
   "outputs": [
    {
     "name": "stdout",
     "output_type": "stream",
     "text": [
      "5769 cantidad de películas fueron estrenadas en los días Martes\n"
     ]
    }
   ],
   "source": [
    "'Se ingresa un día en idioma Español. Debe devolver la cantidad de películas que fueron estrenadas en día consultado en la totalidad del dataset.'\n",
    "\n",
    "#mapeamos los nombres de los dias en español a sus numeros correspondientes\n",
    "def cantidad_filmaciones_dia(dia: str):\n",
    "    dias_espanol = {\n",
    "        'lunes': 0, 'martes': 1, 'miércoles': 2, 'jueves': 3,\n",
    "        'viernes': 4, 'sábado': 5, 'domingo': 6\n",
    "    }\n",
    "    dia_num = dias_espanol.get(dia.lower())\n",
    "\n",
    "#manejamos errores\n",
    "    if dia_num is None:\n",
    "        return {\"mensaje\": f\"Día '{dia}' no válido. Debe ser un día de la semana en español.\"}\n",
    "\n",
    "#contamos las peliculas estrenadas en un día en específico\n",
    "    cantidad = len(df[df['release_date'].dt.dayofweek == dia_num])\n",
    "    return {\"mensaje\": f\"{cantidad} cantidad de películas fueron estrenadas en los días {dia.capitalize()}\"}\n",
    "\n",
    "#llamamos a la función y mostramos el resultado\n",
    "resultado = cantidad_filmaciones_dia(\"martes\")\n",
    "print(resultado[\"mensaje\"])"
   ]
  },
  {
   "cell_type": "code",
   "execution_count": 23,
   "metadata": {},
   "outputs": [
    {
     "name": "stdout",
     "output_type": "stream",
     "text": [
      "La película 'The Avengers' fue estrenada en el año 1998 con un score de 9.562953.\n"
     ]
    }
   ],
   "source": [
    "'Se ingresa el título de una filmación esperando como respuesta el título, el año de estreno y el score.'\n",
    "\n",
    "#definimos la función y buscamos la película especificada\n",
    "def score_titulo(titulo_de_la_filmacion: str):\n",
    "    titulo_busqueda = titulo_de_la_filmacion.lower().strip()\n",
    "    pelicula = df[df['title'].str.lower().str.strip() == titulo_busqueda]\n",
    "    \n",
    "#manejamos los errores si no se encuentra la película\n",
    "    if pelicula.empty:\n",
    "        return {\"mensaje\": f\"No se encontró la película '{titulo_de_la_filmacion}'.\"}\n",
    "\n",
    "#extraemos cada uno de los datos solicitados (título, año y score)\n",
    "    titulo = pelicula['title'].iloc[0]\n",
    "    anio_estreno = pelicula['release_date'].dt.year.iloc[0]\n",
    "    score = pelicula['popularity'].iloc[0]\n",
    "\n",
    "    return {\"mensaje\": f\"La película '{titulo}' fue estrenada en el año {anio_estreno} con un score de {score}.\"}\n",
    "\n",
    "#llamamos a la función y mostramos el resultado\n",
    "resultado = score_titulo(\"the avengers\")\n",
    "print(resultado[\"mensaje\"])"
   ]
  },
  {
   "cell_type": "code",
   "execution_count": 24,
   "metadata": {},
   "outputs": [
    {
     "name": "stdout",
     "output_type": "stream",
     "text": [
      "La película 'Iron Man' fue estrenada en el año 2008. La misma cuenta con un total de 8951.0 valoraciones, con un promedio de 7.4.\n"
     ]
    }
   ],
   "source": [
    "'Se ingresa el título de una filmación esperando como respuesta el título, la cantidad de votos y el valor promedio de las votaciones. La misma variable deberá de contar con al menos 2000 valoraciones, caso contrario, debemos contar con un mensaje avisando que no cumple esta condición y que por ende, no se devuelve ningun valor.'\n",
    "\n",
    "#definimos la función y buscamos la película especificada\n",
    "def votos_titulo(titulo_de_la_filmacion: str):\n",
    "    pelicula = df[df['title'].str.lower() == titulo_de_la_filmacion.lower()]\n",
    "\n",
    "#manejamos los errores si no se encuentra la película\n",
    "    if pelicula.empty:\n",
    "        return {\"mensaje\": f\"No se encontró la película '{titulo_de_la_filmacion}'.\"}\n",
    "    \n",
    "#extraemos cada uno de los datos solicitados (cantidad de votos y promedio de votos)\n",
    "    cantidad_votos = pelicula['vote_count'].iloc[0]\n",
    "    promedio_votos = pelicula['vote_average'].iloc[0]\n",
    "\n",
    "#condicion de las 2000 valoraciones\n",
    "    if cantidad_votos < 2000:\n",
    "        return {\"mensaje\": f\"La película '{pelicula['title'].iloc[0]}' no cumple con el mínimo de 2000 valoraciones.\"}\n",
    "\n",
    "    return {\"mensaje\": f\"La película '{pelicula['title'].iloc[0]}' fue estrenada en el año {pelicula['release_date'].dt.year.iloc[0]}. La misma cuenta con un total de {cantidad_votos} valoraciones, con un promedio de {promedio_votos}.\"}\n",
    "\n",
    "#llamamos a la función y mostramos el resultado\n",
    "resultado = votos_titulo(\"iron man\")\n",
    "print(resultado[\"mensaje\"])"
   ]
  },
  {
   "cell_type": "code",
   "execution_count": 25,
   "metadata": {},
   "outputs": [
    {
     "name": "stdout",
     "output_type": "stream",
     "text": [
      "El actor Robert downey jr. ha participado de 88 cantidad de filmaciones, el mismo ha conseguido un retorno de 0.0 con un promedio de 0.00 por filmación.\n"
     ]
    }
   ],
   "source": [
    "'Se ingresa el nombre de un actor que se encuentre dentro de un dataset debiendo devolver el éxito del mismo medido a través del retorno. Además, la cantidad de películas que en las que ha participado y el promedio de retorno. La definición no deberá considerar directores.'\n",
    "\n",
    "def get_actor(nombre_actor: str):\n",
    " \n",
    "    #filtramos las películas del actor\n",
    "    peliculas_actor = df_credits[df_credits['name'].str.lower() == nombre_actor.lower()]\n",
    "\n",
    "    #manejamos los errores\n",
    "    if peliculas_actor.empty:\n",
    "        return {\"mensaje\": f\"No se encontró al actor '{nombre_actor}' o no tiene películas en el dataset.\"}\n",
    "\n",
    "     #obtenemos los IDs de las películas del actor\n",
    "    ids_peliculas_actor = peliculas_actor['id'].unique().tolist()\n",
    "\n",
    "    #filtramos las películas\n",
    "    peliculas_actor_movies = df[df['id'].isin(ids_peliculas_actor)]\n",
    "\n",
    "    #calculamos el retorno promedio\n",
    "    retorno_promedio = peliculas_actor_movies['return'].mean()\n",
    "\n",
    "    return {\n",
    "        \"mensaje\": f\"El actor {nombre_actor.capitalize()} ha participado de {len(peliculas_actor_movies)} cantidad de filmaciones, el mismo ha conseguido un retorno de {peliculas_actor_movies['return'].sum()} con un promedio de {retorno_promedio:.2f} por filmación.\"\n",
    "    }\n",
    "\n",
    "#llamamos a la función y mostramos el resultado\n",
    "resultado = get_actor(\"Robert Downey Jr.\")\n",
    "print(resultado[\"mensaje\"])"
   ]
  },
  {
   "cell_type": "code",
   "execution_count": 26,
   "metadata": {},
   "outputs": [
    {
     "name": "stdout",
     "output_type": "stream",
     "text": [
      "{'mensaje': 'El director Pedro armendáriz jr. ha dirigido 20 cantidad de filmaciones, el mismo ha conseguido un retorno de 0.0 con un promedio de 0.00 por filmación.', 'peliculas': [{'titulo': 'Knock on Wood', 'fecha_lanzamiento': '1981-03-01', 'retorno_individual': 0.0, 'costo': 1, 'ganancia': 0.0}, {'titulo': 'Knock on Wood', 'fecha_lanzamiento': '1981-03-01', 'retorno_individual': 0.0, 'costo': 1, 'ganancia': 0.0}, {'titulo': 'Knock on Wood', 'fecha_lanzamiento': '1981-03-01', 'retorno_individual': 0.0, 'costo': 1, 'ganancia': 0.0}, {'titulo': 'Knock on Wood', 'fecha_lanzamiento': '1981-03-01', 'retorno_individual': 0.0, 'costo': 1, 'ganancia': 0.0}, {'titulo': 'Knock on Wood', 'fecha_lanzamiento': '1981-03-01', 'retorno_individual': 0.0, 'costo': 1, 'ganancia': 0.0}, {'titulo': 'Knock on Wood', 'fecha_lanzamiento': '1981-03-01', 'retorno_individual': 0.0, 'costo': 1, 'ganancia': 0.0}, {'titulo': 'Knock on Wood', 'fecha_lanzamiento': '1981-03-01', 'retorno_individual': 0.0, 'costo': 1, 'ganancia': 0.0}, {'titulo': 'Knock on Wood', 'fecha_lanzamiento': '1981-03-01', 'retorno_individual': 0.0, 'costo': 1, 'ganancia': 0.0}, {'titulo': 'Knock on Wood', 'fecha_lanzamiento': '1981-03-01', 'retorno_individual': 0.0, 'costo': 1, 'ganancia': 0.0}, {'titulo': 'Knock on Wood', 'fecha_lanzamiento': '1981-03-01', 'retorno_individual': 0.0, 'costo': 1, 'ganancia': 0.0}, {'titulo': 'Knock on Wood', 'fecha_lanzamiento': '1981-03-01', 'retorno_individual': 0.0, 'costo': 1, 'ganancia': 0.0}, {'titulo': 'Knock on Wood', 'fecha_lanzamiento': '1981-03-01', 'retorno_individual': 0.0, 'costo': 1, 'ganancia': 0.0}, {'titulo': 'Knock on Wood', 'fecha_lanzamiento': '1981-03-01', 'retorno_individual': 0.0, 'costo': 1, 'ganancia': 0.0}, {'titulo': 'Knock on Wood', 'fecha_lanzamiento': '1981-03-01', 'retorno_individual': 0.0, 'costo': 1, 'ganancia': 0.0}, {'titulo': 'Knock on Wood', 'fecha_lanzamiento': '1981-03-01', 'retorno_individual': 0.0, 'costo': 1, 'ganancia': 0.0}, {'titulo': 'Knock on Wood', 'fecha_lanzamiento': '1981-03-01', 'retorno_individual': 0.0, 'costo': 1, 'ganancia': 0.0}, {'titulo': 'Knock on Wood', 'fecha_lanzamiento': '1981-03-01', 'retorno_individual': 0.0, 'costo': 1, 'ganancia': 0.0}, {'titulo': 'Knock on Wood', 'fecha_lanzamiento': '1981-03-01', 'retorno_individual': 0.0, 'costo': 1, 'ganancia': 0.0}, {'titulo': 'Knock on Wood', 'fecha_lanzamiento': '1981-03-01', 'retorno_individual': 0.0, 'costo': 1, 'ganancia': 0.0}, {'titulo': 'Knock on Wood', 'fecha_lanzamiento': '1981-03-01', 'retorno_individual': 0.0, 'costo': 1, 'ganancia': 0.0}]}\n"
     ]
    }
   ],
   "source": [
    "'Se ingresa el nombre de un director que se encuentre dentro de un dataset debiendo devolver el éxito del mismo medido a través del retorno. Además, deberá devolver el nombre de cada película con la fecha de lanzamiento, retorno individual, costo y ganancia de la misma.'\n",
    "\n",
    "def get_director(nombre_director: str):\n",
    "    #filtramos las películas del director\n",
    "    peliculas_director = df[(df['job'] == 'Director') & (df['name'] == nombre_director)]\n",
    "\n",
    "    #manejamos los errores\n",
    "    if peliculas_director.empty:\n",
    "        return {\"mensaje\": f\"No se encontró al director '{nombre_director}' o no tiene películas en el dataset.\"}\n",
    "\n",
    "    #obtenemos los IDs de las películas del director\n",
    "    ids_peliculas_director = peliculas_director['id'].tolist()\n",
    "\n",
    "    #filtramos las películas\n",
    "    peliculas_director_movies = df[df['id'].isin(ids_peliculas_director)].copy()\n",
    "\n",
    "    #convertimos la columna 'release_date' a datetime\n",
    "    peliculas_director_movies['release_date'] = pd.to_datetime(peliculas_director_movies['release_date'], errors='coerce')\n",
    "\n",
    "    #calculamos el retorno promedio\n",
    "    retorno_promedio = peliculas_director_movies['return'].mean()\n",
    "\n",
    "    #creamos la lista de películas\n",
    "    lista_peliculas = []\n",
    "    for index, row in peliculas_director_movies.iterrows():\n",
    "        if pd.notna(row['release_date']):\n",
    "            lista_peliculas.append({\n",
    "                \"titulo\": row[\"title\"],\n",
    "                \"fecha_lanzamiento\": row[\"release_date\"].strftime(\"%Y-%m-%d\"),\n",
    "                \"retorno_individual\": row[\"return\"],\n",
    "                \"costo\": row[\"budget\"],\n",
    "                \"ganancia\": row[\"revenue\"]\n",
    "            })\n",
    "        else:\n",
    "            lista_peliculas.append({\n",
    "                \"titulo\": row[\"title\"],\n",
    "                \"fecha_lanzamiento\": None,\n",
    "                \"retorno_individual\": row[\"return\"],\n",
    "                \"costo\": row[\"budget\"],\n",
    "                \"ganancia\": row[\"revenue\"]\n",
    "            })\n",
    "\n",
    "    return {\n",
    "        \"mensaje\": f\"El director {nombre_director.capitalize()} ha dirigido {len(peliculas_director_movies)} cantidad de filmaciones, el mismo ha conseguido un retorno de {peliculas_director_movies['return'].sum()} con un promedio de {retorno_promedio:.2f} por filmación.\",\n",
    "        \"peliculas\": lista_peliculas\n",
    "    }\n",
    "\n",
    "# Llamar a la función y mostrar el resultado\n",
    "resultado = get_director('Pedro Armendáriz Jr.')\n",
    "print(resultado)"
   ]
  }
 ],
 "metadata": {
  "kernelspec": {
   "display_name": "Python 3",
   "language": "python",
   "name": "python3"
  },
  "language_info": {
   "codemirror_mode": {
    "name": "ipython",
    "version": 3
   },
   "file_extension": ".py",
   "mimetype": "text/x-python",
   "name": "python",
   "nbconvert_exporter": "python",
   "pygments_lexer": "ipython3",
   "version": "3.11.4"
  }
 },
 "nbformat": 4,
 "nbformat_minor": 2
}
