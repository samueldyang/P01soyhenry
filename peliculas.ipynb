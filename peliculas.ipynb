{
 "cells": [
  {
   "cell_type": "code",
   "execution_count": 2,
   "metadata": {},
   "outputs": [],
   "source": [
    "#importamos todas las librerias necesarias para el proyecto\n",
    "import pandas as pd\n",
    "import copy, json, csv, ast, re"
   ]
  },
  {
   "cell_type": "code",
   "execution_count": 3,
   "metadata": {},
   "outputs": [
    {
     "name": "stdout",
     "output_type": "stream",
     "text": [
      "   adult                              belongs_to_collection    budget  \\\n",
      "0  False  {'id': 10194, 'name': 'Toy Story Collection', ...  30000000   \n",
      "1  False                                                NaN  65000000   \n",
      "2  False  {'id': 119050, 'name': 'Grumpy Old Men Collect...         0   \n",
      "3  False                                                NaN  16000000   \n",
      "4  False  {'id': 96871, 'name': 'Father of the Bride Col...         0   \n",
      "\n",
      "                                              genres  \\\n",
      "0  [{'id': 16, 'name': 'Animation'}, {'id': 35, '...   \n",
      "1  [{'id': 12, 'name': 'Adventure'}, {'id': 14, '...   \n",
      "2  [{'id': 10749, 'name': 'Romance'}, {'id': 35, ...   \n",
      "3  [{'id': 35, 'name': 'Comedy'}, {'id': 18, 'nam...   \n",
      "4                     [{'id': 35, 'name': 'Comedy'}]   \n",
      "\n",
      "                               homepage     id    imdb_id original_language  \\\n",
      "0  http://toystory.disney.com/toy-story    862  tt0114709                en   \n",
      "1                                   NaN   8844  tt0113497                en   \n",
      "2                                   NaN  15602  tt0113228                en   \n",
      "3                                   NaN  31357  tt0114885                en   \n",
      "4                                   NaN  11862  tt0113041                en   \n",
      "\n",
      "                original_title  \\\n",
      "0                    Toy Story   \n",
      "1                      Jumanji   \n",
      "2             Grumpier Old Men   \n",
      "3            Waiting to Exhale   \n",
      "4  Father of the Bride Part II   \n",
      "\n",
      "                                            overview  ... release_date  \\\n",
      "0  Led by Woody, Andy's toys live happily in his ...  ...   1995-10-30   \n",
      "1  When siblings Judy and Peter discover an encha...  ...   1995-12-15   \n",
      "2  A family wedding reignites the ancient feud be...  ...   1995-12-22   \n",
      "3  Cheated on, mistreated and stepped on, the wom...  ...   1995-12-22   \n",
      "4  Just when George Banks has recovered from his ...  ...   1995-02-10   \n",
      "\n",
      "       revenue runtime                                   spoken_languages  \\\n",
      "0  373554033.0    81.0           [{'iso_639_1': 'en', 'name': 'English'}]   \n",
      "1  262797249.0   104.0  [{'iso_639_1': 'en', 'name': 'English'}, {'iso...   \n",
      "2          0.0   101.0           [{'iso_639_1': 'en', 'name': 'English'}]   \n",
      "3   81452156.0   127.0           [{'iso_639_1': 'en', 'name': 'English'}]   \n",
      "4   76578911.0   106.0           [{'iso_639_1': 'en', 'name': 'English'}]   \n",
      "\n",
      "     status                                            tagline  \\\n",
      "0  Released                                                NaN   \n",
      "1  Released          Roll the dice and unleash the excitement!   \n",
      "2  Released  Still Yelling. Still Fighting. Still Ready for...   \n",
      "3  Released  Friends are the people who let you be yourself...   \n",
      "4  Released  Just When His World Is Back To Normal... He's ...   \n",
      "\n",
      "                         title  video vote_average vote_count  \n",
      "0                    Toy Story  False          7.7     5415.0  \n",
      "1                      Jumanji  False          6.9     2413.0  \n",
      "2             Grumpier Old Men  False          6.5       92.0  \n",
      "3            Waiting to Exhale  False          6.1       34.0  \n",
      "4  Father of the Bride Part II  False          5.7      173.0  \n",
      "\n",
      "[5 rows x 24 columns]\n"
     ]
    },
    {
     "name": "stderr",
     "output_type": "stream",
     "text": [
      "/var/folders/h0/dqfbn2qj2dbfw7kz2y5xk77m0000gn/T/ipykernel_6061/4195695612.py:2: DtypeWarning: Columns (10) have mixed types. Specify dtype option on import or set low_memory=False.\n",
      "  df=pd.read_csv('movies_dataset.csv')\n"
     ]
    },
    {
     "data": {
      "text/plain": [
       "(45466, 24)"
      ]
     },
     "execution_count": 3,
     "metadata": {},
     "output_type": "execute_result"
    }
   ],
   "source": [
    "#cargamos el archivo csv\n",
    "df=pd.read_csv('movies_dataset.csv')\n",
    "\n",
    "#imprimimos y vemos su dimension\n",
    "print(df.head(5))\n",
    "df.shape"
   ]
  },
  {
   "cell_type": "code",
   "execution_count": 4,
   "metadata": {},
   "outputs": [
    {
     "data": {
      "text/plain": [
       "Index(['budget', 'genres', 'id', 'original_language', 'overview', 'popularity',\n",
       "       'production_countries', 'release_date', 'revenue', 'runtime',\n",
       "       'spoken_languages', 'status', 'tagline', 'title', 'vote_average',\n",
       "       'vote_count'],\n",
       "      dtype='object')"
      ]
     },
     "execution_count": 4,
     "metadata": {},
     "output_type": "execute_result"
    }
   ],
   "source": [
    "#eliminamos columnas innecesarias\n",
    "columnas_a_eliminar = ['belongs_to_collection', 'production_companies', 'video', 'imdb_id', 'adult', 'original_title', 'poster_path', 'homepage']\n",
    "df=df.drop(columnas_a_eliminar, axis=1)\n",
    "\n",
    "#imprimimos las columnas restantes para verificar\n",
    "df.columns"
   ]
  },
  {
   "cell_type": "code",
   "execution_count": 5,
   "metadata": {},
   "outputs": [
    {
     "name": "stdout",
     "output_type": "stream",
     "text": [
      "na en revenue 0\n",
      "na en budget 0\n"
     ]
    }
   ],
   "source": [
    "#rellenamos los valores nulos por 0\n",
    "df['revenue'].fillna(0, inplace=True)\n",
    "df['budget'].fillna(0, inplace=True)\n",
    "\n",
    "#imprimimos para verificar\n",
    "print('na en revenue', df.revenue.isna().sum())\n",
    "print('na en budget', df.revenue.isna().sum())"
   ]
  },
  {
   "cell_type": "code",
   "execution_count": 6,
   "metadata": {},
   "outputs": [
    {
     "name": "stdout",
     "output_type": "stream",
     "text": [
      "0\n"
     ]
    }
   ],
   "source": [
    "#eliminamos los valores nulos en 'release date'\n",
    "df.dropna(subset=['release_date'], inplace=True)\n",
    "\n",
    "#chequeamos los valores nulos\n",
    "print(df['release_date'].isnull().sum())\n"
   ]
  },
  {
   "cell_type": "code",
   "execution_count": 7,
   "metadata": {},
   "outputs": [
    {
     "name": "stdout",
     "output_type": "stream",
     "text": [
      "0\n",
      "0\n",
      "  release_date  release_year\n",
      "0   1995-10-30        1995.0\n",
      "1   1995-12-15        1995.0\n",
      "2   1995-12-22        1995.0\n",
      "3   1995-12-22        1995.0\n",
      "4   1995-02-10        1995.0\n"
     ]
    }
   ],
   "source": [
    "#creamos 'release_year' y eliminamos valores nulos\n",
    "df['release_date'] = pd.to_datetime(df['release_date'], errors='coerce')\n",
    "df['release_year'] = df['release_date'].dt.year\n",
    "df = df.dropna(subset=['release_year'])\n",
    "\n",
    "#convertimos las fechas a AAAA-mm-dd\n",
    "df['release_date'] = df['release_date'].dt.strftime('%Y-%m-%d')\n",
    "\n",
    "#verificamos valores nulos\n",
    "print(df['release_date'].isnull().sum())\n",
    "print(df['release_year'].isnull().sum())\n",
    "\n",
    "#visualizamos\n",
    "print(df[['release_date', 'release_year']].head(5))"
   ]
  },
  {
   "cell_type": "code",
   "execution_count": 8,
   "metadata": {},
   "outputs": [
    {
     "data": {
      "text/plain": [
       "0    1.245180e+01\n",
       "1    4.043035e+00\n",
       "2    0.000000e+00\n",
       "3    5.090760e+00\n",
       "4    7.657891e+07\n",
       "Name: return, dtype: float64"
      ]
     },
     "execution_count": 8,
     "metadata": {},
     "output_type": "execute_result"
    }
   ],
   "source": [
    "#creamos 'revenue' y 'budget'\n",
    "df['revenue'] = pd.to_numeric(df['revenue'], errors='coerce')\n",
    "df['budget'] = pd.to_numeric(df['budget'], errors='coerce')\n",
    "\n",
    "#manejamos valores nulos\n",
    "df['revenue'] = df['revenue'].fillna(0)\n",
    "\n",
    "#reemplazamos 0 por 1, para evitar la division por cero\n",
    "df['budget'] = df['budget'].fillna(0).replace(0, 1)\n",
    "\n",
    "#calculamos el retorno de inversión\n",
    "df['return'] = df['revenue'] / df['budget']\n",
    "df['return'].head(5)"
   ]
  },
  {
   "cell_type": "code",
   "execution_count": 9,
   "metadata": {},
   "outputs": [
    {
     "name": "stdout",
     "output_type": "stream",
     "text": [
      "Filas y columnas: (45376, 18)\n",
      "<class 'pandas.core.frame.DataFrame'>\n",
      "Index: 45376 entries, 0 to 45465\n",
      "Data columns (total 18 columns):\n",
      " #   Column                Non-Null Count  Dtype  \n",
      "---  ------                --------------  -----  \n",
      " 0   budget                45376 non-null  int64  \n",
      " 1   genres                45376 non-null  object \n",
      " 2   id                    45376 non-null  object \n",
      " 3   original_language     45365 non-null  object \n",
      " 4   overview              44435 non-null  object \n",
      " 5   popularity            45376 non-null  object \n",
      " 6   production_countries  45376 non-null  object \n",
      " 7   release_date          45376 non-null  object \n",
      " 8   revenue               45376 non-null  float64\n",
      " 9   runtime               45130 non-null  float64\n",
      " 10  spoken_languages      45376 non-null  object \n",
      " 11  status                45296 non-null  object \n",
      " 12  tagline               20398 non-null  object \n",
      " 13  title                 45376 non-null  object \n",
      " 14  vote_average          45376 non-null  float64\n",
      " 15  vote_count            45376 non-null  float64\n",
      " 16  release_year          45376 non-null  float64\n",
      " 17  return                45376 non-null  float64\n",
      "dtypes: float64(6), int64(1), object(11)\n",
      "memory usage: 6.6+ MB\n"
     ]
    }
   ],
   "source": [
    "print(\"Filas y columnas:\",df.shape)\n",
    "df.info()"
   ]
  },
  {
   "cell_type": "code",
   "execution_count": null,
   "metadata": {},
   "outputs": [],
   "source": [
    "#guardamos el archivo en un nuevo csv\n",
    "df.to_csv('movies_dataset_modificado.csv', index=False)"
   ]
  }
 ],
 "metadata": {
  "kernelspec": {
   "display_name": "Python 3",
   "language": "python",
   "name": "python3"
  },
  "language_info": {
   "codemirror_mode": {
    "name": "ipython",
    "version": 3
   },
   "file_extension": ".py",
   "mimetype": "text/x-python",
   "name": "python",
   "nbconvert_exporter": "python",
   "pygments_lexer": "ipython3",
   "version": "3.11.4"
  }
 },
 "nbformat": 4,
 "nbformat_minor": 2
}
