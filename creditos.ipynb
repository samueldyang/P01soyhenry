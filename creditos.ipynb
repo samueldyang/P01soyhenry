{
 "cells": [
  {
   "cell_type": "code",
   "execution_count": 2,
   "metadata": {},
   "outputs": [],
   "source": [
    "#importamos todas las librerias necesarias para el proyecto\n",
    "import numpy as np\n",
    "import pandas as pd\n",
    "import matplotlib.pyplot as plt\n",
    "import seaborn as sns\n",
    "import json, csv, ast"
   ]
  },
  {
   "cell_type": "code",
   "execution_count": 3,
   "metadata": {},
   "outputs": [
    {
     "name": "stdout",
     "output_type": "stream",
     "text": [
      "                                                cast  \\\n",
      "0  [{'cast_id': 14, 'character': 'Woody (voice)',...   \n",
      "1  [{'cast_id': 1, 'character': 'Alan Parrish', '...   \n",
      "2  [{'cast_id': 2, 'character': 'Max Goldman', 'c...   \n",
      "3  [{'cast_id': 1, 'character': \"Savannah 'Vannah...   \n",
      "4  [{'cast_id': 1, 'character': 'George Banks', '...   \n",
      "\n",
      "                                                crew     id  \n",
      "0  [{'credit_id': '52fe4284c3a36847f8024f49', 'de...    862  \n",
      "1  [{'credit_id': '52fe44bfc3a36847f80a7cd1', 'de...   8844  \n",
      "2  [{'credit_id': '52fe466a9251416c75077a89', 'de...  15602  \n",
      "3  [{'credit_id': '52fe44779251416c91011acb', 'de...  31357  \n",
      "4  [{'credit_id': '52fe44959251416c75039ed7', 'de...  11862  \n"
     ]
    },
    {
     "data": {
      "text/plain": [
       "(45476, 3)"
      ]
     },
     "execution_count": 3,
     "metadata": {},
     "output_type": "execute_result"
    }
   ],
   "source": [
    "#cargamos el archivo csv\n",
    "df_credits=pd.read_csv('credits.csv')\n",
    "\n",
    "#imprimimos y vemos su dimension\n",
    "print(df_credits.head(5))\n",
    "df_credits.shape"
   ]
  },
  {
   "cell_type": "code",
   "execution_count": 4,
   "metadata": {},
   "outputs": [],
   "source": [
    "#desanidamos cast\n",
    "def desanidar_cast(cadena_json):\n",
    "    try:\n",
    "        lista_actores = json.loads(cadena_json.replace(\"'\", '\"')) #replace single quotes with double quotes\n",
    "        actores = [{'cast_id': actor.get('cast_id'), 'character': actor.get('character'), 'name': actor.get('name')} for actor in lista_actores]\n",
    "        return actores\n",
    "    except (TypeError, json.JSONDecodeError, KeyError, AttributeError):\n",
    "        return None\n",
    "\n",
    "df_credits['cast'] = df_credits['cast'].apply(desanidar_cast)"
   ]
  },
  {
   "cell_type": "code",
   "execution_count": 5,
   "metadata": {},
   "outputs": [],
   "source": [
    "#desanidamos crew\n",
    "def desanidar_crew(cadena_json):\n",
    "    try:\n",
    "        lista_crew = json.loads(cadena_json.replace(\"'\", '\"')) #replace single quotes with double quotes\n",
    "        crew = [{'credit_id': miembro.get('credit_id'), 'department': miembro.get('department'), 'job': miembro.get('job'), 'name': miembro.get('name')} for miembro in lista_crew]\n",
    "        return crew\n",
    "    except (TypeError, json.JSONDecodeError, KeyError, AttributeError):\n",
    "        return None\n",
    "\n",
    "df_credits['crew'] = df_credits['crew'].apply(desanidar_crew)"
   ]
  },
  {
   "cell_type": "code",
   "execution_count": 6,
   "metadata": {},
   "outputs": [],
   "source": [
    "#expandimos las listas\n",
    "df_credits = df_credits.explode('cast')\n",
    "df_credits = df_credits.explode('crew')"
   ]
  },
  {
   "cell_type": "code",
   "execution_count": 12,
   "metadata": {},
   "outputs": [],
   "source": [
    "#reiniciamos índices\n",
    "df_credits = df_credits.reset_index(drop=True)\n",
    "df_cast = df_cast.reset_index(drop=True)\n",
    "df_crew = df_crew.reset_index(drop=True)\n",
    "\n",
    "#cncatenamos DataFrames\n",
    "df_credits = pd.concat([df_credits, df_cast, df_crew], axis=1)\n",
    "\n",
    "#eliminamos columnas originales\n",
    "df_credits = df_credits.drop(['cast', 'crew'], axis=1)"
   ]
  },
  {
   "cell_type": "code",
   "execution_count": 14,
   "metadata": {},
   "outputs": [],
   "source": [
    "#eliminamos las filas con valor NaN\n",
    "df_credits = df_credits.dropna()\n",
    "\n",
    "#convertimos la columna 'cast_id' a enteros\n",
    "df_credits['cast_id'] = df_credits['cast_id'].astype(int)"
   ]
  },
  {
   "cell_type": "code",
   "execution_count": 16,
   "metadata": {},
   "outputs": [
    {
     "name": "stdout",
     "output_type": "stream",
     "text": [
      "       id  cast_id  character                name                 credit_id  \\\n",
      "58  16420        2    Othello  Laurence Fishburne  5462510ec3a368082d000121   \n",
      "59  16420        2    Othello  Laurence Fishburne  52fe46d29251416c75084b07   \n",
      "60  16420        2    Othello  Laurence Fishburne  54625118c3a368081300010e   \n",
      "61  16420        3  Desdemona         Irène Jacob  5462510ec3a368082d000121   \n",
      "62  16420        3  Desdemona         Irène Jacob  52fe46d29251416c75084b07   \n",
      "63  16420        3  Desdemona         Irène Jacob  54625118c3a368081300010e   \n",
      "64  16420        4       Iago     Kenneth Branagh  5462510ec3a368082d000121   \n",
      "65  16420        4       Iago     Kenneth Branagh  52fe46d29251416c75084b07   \n",
      "66  16420        4       Iago     Kenneth Branagh  54625118c3a368081300010e   \n",
      "67  16420        5     Cassio    Nathaniel Parker  5462510ec3a368082d000121   \n",
      "\n",
      "   department         job                 name  \n",
      "58    Writing      Writer  William Shakespeare  \n",
      "59  Directing    Director        Oliver Parker  \n",
      "60    Writing  Adaptation        Oliver Parker  \n",
      "61    Writing      Writer  William Shakespeare  \n",
      "62  Directing    Director        Oliver Parker  \n",
      "63    Writing  Adaptation        Oliver Parker  \n",
      "64    Writing      Writer  William Shakespeare  \n",
      "65  Directing    Director        Oliver Parker  \n",
      "66    Writing  Adaptation        Oliver Parker  \n",
      "67    Writing      Writer  William Shakespeare  \n"
     ]
    }
   ],
   "source": [
    "print(df_credits.head(10))\n"
   ]
  },
  {
   "cell_type": "code",
   "execution_count": 17,
   "metadata": {},
   "outputs": [],
   "source": [
    "df_credits.to_csv('credits_modificado.csv', index=False)"
   ]
  }
 ],
 "metadata": {
  "kernelspec": {
   "display_name": "Python 3",
   "language": "python",
   "name": "python3"
  },
  "language_info": {
   "codemirror_mode": {
    "name": "ipython",
    "version": 3
   },
   "file_extension": ".py",
   "mimetype": "text/x-python",
   "name": "python",
   "nbconvert_exporter": "python",
   "pygments_lexer": "ipython3",
   "version": "3.11.4"
  }
 },
 "nbformat": 4,
 "nbformat_minor": 2
}
